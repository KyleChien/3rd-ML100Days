{
 "cells": [
  {
   "cell_type": "markdown",
   "metadata": {},
   "source": [
    "## [作業重點]\n",
    "目前你應該已經要很清楚資料集中，資料的型態是什麼樣子囉！包含特徵 (features) 與標籤 (labels)。因此要記得未來不管什麼專案，必須要把資料清理成相同的格式，才能送進模型訓練。\n",
    "今天的作業開始踏入決策樹這個非常重要的模型，請務必確保你理解模型中每個超參數的意思，並試著調整看看，對最終預測結果的影響為何"
   ]
  },
  {
   "cell_type": "markdown",
   "metadata": {},
   "source": [
    "## 作業\n",
    "\n",
    "1. 試著調整 DecisionTreeClassifier(...) 中的參數，並觀察是否會改變結果？\n",
    "2. 改用其他資料集 (boston, wine)，並與回歸模型的結果進行比較"
   ]
  },
  {
   "cell_type": "code",
   "execution_count": 1,
   "metadata": {},
   "outputs": [],
   "source": [
    "import warnings\n",
    "warnings.filterwarnings('ignore')\n",
    "from sklearn import linear_model, datasets, metrics\n",
    "from sklearn.model_selection import train_test_split\n",
    "from sklearn.tree import DecisionTreeClassifier, DecisionTreeRegressor"
   ]
  },
  {
   "cell_type": "code",
   "execution_count": 2,
   "metadata": {},
   "outputs": [
    {
     "name": "stdout",
     "output_type": "stream",
     "text": [
      "xshape：(178, 13)\n",
      "yshape：(178,)\n"
     ]
    }
   ],
   "source": [
    "wine = datasets.load_wine()\n",
    "x = wine.data\n",
    "y = wine.target\n",
    "print(f'xshape：{x.shape}')\n",
    "print(f'yshape：{y.shape}')"
   ]
  },
  {
   "cell_type": "code",
   "execution_count": 3,
   "metadata": {},
   "outputs": [
    {
     "name": "stdout",
     "output_type": "stream",
     "text": [
      "acc_score：0.8888888888888888\n",
      "features importance：[0.00711207 0.         0.         0.         0.         0.\n",
      " 0.39490304 0.         0.         0.12735051 0.01521652 0.\n",
      " 0.45541786]\n"
     ]
    }
   ],
   "source": [
    "x_train,x_test,y_train,y_test = train_test_split(x,y,test_size = 0.25)\n",
    "clf = DecisionTreeClassifier()\n",
    "clf.fit(x_train,y_train)\n",
    "y_pred = clf.predict(x_test)\n",
    "print(f'acc_score：{metrics.accuracy_score(y_test,y_pred)}')\n",
    "print(f'features importance：{clf.feature_importances_}')"
   ]
  },
  {
   "cell_type": "code",
   "execution_count": 4,
   "metadata": {},
   "outputs": [
    {
     "name": "stdout",
     "output_type": "stream",
     "text": [
      "xshape：(506, 13)\n",
      "yshape：(506,)\n"
     ]
    }
   ],
   "source": [
    "boston = datasets.load_boston()\n",
    "x = boston.data\n",
    "y = boston.target\n",
    "print(f'xshape：{x.shape}')\n",
    "print(f'yshape：{y.shape}')"
   ]
  },
  {
   "cell_type": "code",
   "execution_count": 5,
   "metadata": {},
   "outputs": [
    {
     "name": "stdout",
     "output_type": "stream",
     "text": [
      "MSE：24.87858267716535\n"
     ]
    }
   ],
   "source": [
    "# decision tree\n",
    "x_train,x_test,y_train,y_test = train_test_split(x,y,test_size = 0.25)\n",
    "reg = DecisionTreeRegressor()\n",
    "reg.fit(x_train,y_train)\n",
    "y_pred = reg.predict(x_test)\n",
    "mse = metrics.mean_squared_error(y_test,y_pred)\n",
    "print(f'MSE：{mse}')"
   ]
  },
  {
   "cell_type": "code",
   "execution_count": 6,
   "metadata": {},
   "outputs": [
    {
     "name": "stdout",
     "output_type": "stream",
     "text": [
      "MSE：27.97655520022365\n"
     ]
    }
   ],
   "source": [
    "# linear regression\n",
    "reg = linear_model.LinearRegression()\n",
    "reg.fit(x_train,y_train)\n",
    "y_pred = reg.predict(x_test)\n",
    "mse = metrics.mean_squared_error(y_test,y_pred)\n",
    "print(f'MSE：{mse}')"
   ]
  },
  {
   "cell_type": "code",
   "execution_count": 7,
   "metadata": {},
   "outputs": [
    {
     "name": "stdout",
     "output_type": "stream",
     "text": [
      "MSE：27.8022274784099\n"
     ]
    }
   ],
   "source": [
    "# lasso\n",
    "reg = linear_model.Lasso()\n",
    "reg.fit(x_train,y_train)\n",
    "y_pred = reg.predict(x_test)\n",
    "mse = metrics.mean_squared_error(y_test,y_pred)\n",
    "print(f'MSE：{mse}')"
   ]
  },
  {
   "cell_type": "code",
   "execution_count": null,
   "metadata": {},
   "outputs": [],
   "source": []
  }
 ],
 "metadata": {
  "kernelspec": {
   "display_name": "Python 3",
   "language": "python",
   "name": "python3"
  },
  "language_info": {
   "codemirror_mode": {
    "name": "ipython",
    "version": 3
   },
   "file_extension": ".py",
   "mimetype": "text/x-python",
   "name": "python",
   "nbconvert_exporter": "python",
   "pygments_lexer": "ipython3",
   "version": "3.7.3"
  }
 },
 "nbformat": 4,
 "nbformat_minor": 2
}
