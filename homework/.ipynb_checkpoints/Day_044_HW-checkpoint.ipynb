{
 "cells": [
  {
   "cell_type": "markdown",
   "metadata": {},
   "source": [
    "## [作業重點]\n",
    "確保你了解隨機森林模型中每個超參數的意義，並觀察調整超參數對結果的影響"
   ]
  },
  {
   "cell_type": "markdown",
   "metadata": {},
   "source": [
    "## 作業\n",
    "\n",
    "1. 試著調整 RandomForestClassifier(...) 中的參數，並觀察是否會改變結果？\n",
    "2. 改用其他資料集 (boston, wine)，並與回歸模型與決策樹的結果進行比較"
   ]
  },
  {
   "cell_type": "code",
   "execution_count": 1,
   "metadata": {},
   "outputs": [],
   "source": [
    "import warnings\n",
    "warnings.filterwarnings('ignore')\n",
    "from sklearn.ensemble import RandomForestClassifier\n",
    "from sklearn import datasets\n",
    "from sklearn.metrics import accuracy_score\n",
    "from sklearn.model_selection import train_test_split"
   ]
  },
  {
   "cell_type": "code",
   "execution_count": 2,
   "metadata": {},
   "outputs": [
    {
     "name": "stdout",
     "output_type": "stream",
     "text": [
      "xshape：(178, 13)\n",
      "yshape：(178,)\n"
     ]
    }
   ],
   "source": [
    "wine = datasets.load_wine()\n",
    "x = wine.data\n",
    "y = wine.target\n",
    "print(f'xshape：{x.shape}')\n",
    "print(f'yshape：{y.shape}')"
   ]
  },
  {
   "cell_type": "code",
   "execution_count": 3,
   "metadata": {},
   "outputs": [
    {
     "name": "stdout",
     "output_type": "stream",
     "text": [
      "accuracy：0.9777777777777777\n",
      "\n",
      "feature names：['alcohol', 'malic_acid', 'ash', 'alcalinity_of_ash', 'magnesium', 'total_phenols', 'flavanoids', 'nonflavanoid_phenols', 'proanthocyanins', 'color_intensity', 'hue', 'od280/od315_of_diluted_wines', 'proline']\n",
      "\n",
      "feature importance：[0.10053576 0.03016052 0.00980531 0.02195955 0.02403864 0.07617094\n",
      " 0.13889189 0.00610649 0.04322142 0.23433953 0.05536921 0.06797455\n",
      " 0.19142619]\n"
     ]
    }
   ],
   "source": [
    "# 20棵樹，深度4\n",
    "x_train,x_test,y_train,y_test = train_test_split(x,y,test_size = 0.25,random_state=4)\n",
    "clf = RandomForestClassifier(n_estimators=20,max_depth=4)\n",
    "clf.fit(x_train,y_train)\n",
    "y_pred = clf.predict(x_test)\n",
    "print(f'accuracy：{accuracy_score(y_test,y_pred)}\\n')\n",
    "print(f'feature names：{wine.feature_names}\\n')\n",
    "print(f'feature importance：{clf.feature_importances_}')"
   ]
  },
  {
   "cell_type": "code",
   "execution_count": 4,
   "metadata": {},
   "outputs": [
    {
     "name": "stdout",
     "output_type": "stream",
     "text": [
      "accuracy：0.9555555555555556\n",
      "\n",
      "feature names：['alcohol', 'malic_acid', 'ash', 'alcalinity_of_ash', 'magnesium', 'total_phenols', 'flavanoids', 'nonflavanoid_phenols', 'proanthocyanins', 'color_intensity', 'hue', 'od280/od315_of_diluted_wines', 'proline']\n",
      "\n",
      "feature importance：[0.0913543  0.01658626 0.01530064 0.07429962 0.04988488 0.0587371\n",
      " 0.19926048 0.00140812 0.         0.06529017 0.00469578 0.23106614\n",
      " 0.19211651]\n"
     ]
    }
   ],
   "source": [
    "# 5棵樹，深度4\n",
    "x_train,x_test,y_train,y_test = train_test_split(x,y,test_size = 0.25,random_state=4)\n",
    "clf = RandomForestClassifier(n_estimators=5,max_depth=4)\n",
    "clf.fit(x_train,y_train)\n",
    "y_pred = clf.predict(x_test)\n",
    "print(f'accuracy：{accuracy_score(y_test,y_pred)}\\n')\n",
    "print(f'feature names：{wine.feature_names}\\n')\n",
    "print(f'feature importance：{clf.feature_importances_}')"
   ]
  },
  {
   "cell_type": "code",
   "execution_count": 5,
   "metadata": {},
   "outputs": [
    {
     "name": "stdout",
     "output_type": "stream",
     "text": [
      "accuracy：0.9777777777777777\n",
      "\n",
      "feature names：['alcohol', 'malic_acid', 'ash', 'alcalinity_of_ash', 'magnesium', 'total_phenols', 'flavanoids', 'nonflavanoid_phenols', 'proanthocyanins', 'color_intensity', 'hue', 'od280/od315_of_diluted_wines', 'proline']\n",
      "\n",
      "feature importance：[0.13203467 0.02939649 0.01087275 0.03131901 0.03419647 0.0532446\n",
      " 0.14281236 0.00928291 0.02398518 0.16462325 0.0937064  0.10193829\n",
      " 0.17258763]\n"
     ]
    }
   ],
   "source": [
    "# 500棵樹，深度4\n",
    "x_train,x_test,y_train,y_test = train_test_split(x,y,test_size = 0.25,random_state=4)\n",
    "clf = RandomForestClassifier(n_estimators=500,max_depth=4)\n",
    "clf.fit(x_train,y_train)\n",
    "y_pred = clf.predict(x_test)\n",
    "print(f'accuracy：{accuracy_score(y_test,y_pred)}\\n')\n",
    "print(f'feature names：{wine.feature_names}\\n')\n",
    "print(f'feature importance：{clf.feature_importances_}')"
   ]
  },
  {
   "cell_type": "code",
   "execution_count": null,
   "metadata": {},
   "outputs": [],
   "source": []
  }
 ],
 "metadata": {
  "kernelspec": {
   "display_name": "Python 3",
   "language": "python",
   "name": "python3"
  },
  "language_info": {
   "codemirror_mode": {
    "name": "ipython",
    "version": 3
   },
   "file_extension": ".py",
   "mimetype": "text/x-python",
   "name": "python",
   "nbconvert_exporter": "python",
   "pygments_lexer": "ipython3",
   "version": "3.7.3"
  }
 },
 "nbformat": 4,
 "nbformat_minor": 2
}
