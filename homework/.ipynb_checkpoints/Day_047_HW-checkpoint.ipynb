{
 "cells": [
  {
   "cell_type": "markdown",
   "metadata": {},
   "source": [
    "## [作業重點]\n",
    "了解如何使用 Sklearn 中的 hyper-parameter search 找出最佳的超參數"
   ]
  },
  {
   "cell_type": "markdown",
   "metadata": {},
   "source": [
    "### 作業\n",
    "請使用不同的資料集，並使用 hyper-parameter search 的方式，看能不能找出最佳的超參數組合"
   ]
  },
  {
   "cell_type": "code",
   "execution_count": 1,
   "metadata": {},
   "outputs": [],
   "source": [
    "from sklearn import datasets\n",
    "from sklearn.ensemble import GradientBoostingClassifier, RandomForestClassifier\n",
    "from sklearn.model_selection import train_test_split, GridSearchCV\n",
    "from sklearn.metrics import accuracy_score"
   ]
  },
  {
   "cell_type": "code",
   "execution_count": 2,
   "metadata": {},
   "outputs": [],
   "source": [
    "digits = datasets.load_digits()\n",
    "x = digits.data\n",
    "y = digits.target"
   ]
  },
  {
   "cell_type": "code",
   "execution_count": 3,
   "metadata": {},
   "outputs": [
    {
     "name": "stdout",
     "output_type": "stream",
     "text": [
      "score：0.8833333333333333\n"
     ]
    }
   ],
   "source": [
    "# random forest\n",
    "train_x,test_x,train_y,test_y = train_test_split(x,y,test_size=0.2,random_state=42)\n",
    "clf = RandomForestClassifier(n_estimators=100,max_depth=3)\n",
    "clf.fit(train_x,train_y)\n",
    "pred_y = clf.predict(test_x)\n",
    "print(f'score：{accuracy_score(test_y,pred_y)}')"
   ]
  },
  {
   "cell_type": "code",
   "execution_count": 4,
   "metadata": {
    "scrolled": false
   },
   "outputs": [
    {
     "name": "stdout",
     "output_type": "stream",
     "text": [
      "Fitting 3 folds for each of 12 candidates, totalling 36 fits\n"
     ]
    },
    {
     "name": "stderr",
     "output_type": "stream",
     "text": [
      "C:\\Users\\kylec\\Anaconda3\\lib\\site-packages\\sklearn\\model_selection\\_split.py:1978: FutureWarning: The default value of cv will change from 3 to 5 in version 0.22. Specify it explicitly to silence this warning.\n",
      "  warnings.warn(CV_WARNING, FutureWarning)\n",
      "[Parallel(n_jobs=-1)]: Using backend LokyBackend with 8 concurrent workers.\n",
      "[Parallel(n_jobs=-1)]: Done  36 out of  36 | elapsed:    3.8s finished\n"
     ]
    },
    {
     "name": "stdout",
     "output_type": "stream",
     "text": [
      "best score：0.9672929714683368\n",
      "best param：{'max_depth': 9, 'n_estimators': 300}\n"
     ]
    }
   ],
   "source": [
    "# find the best param\n",
    "param_grid = dict(n_estimators=[100,200,300],max_depth=[3,5,7,9])\n",
    "gridSearch = GridSearchCV(clf,param_grid,n_jobs=-1,verbose=1)\n",
    "grid_result = gridSearch.fit(train_x,train_y)\n",
    "print(f'best score：{grid_result.best_score_}\\nbest param：{grid_result.best_params_}')"
   ]
  },
  {
   "cell_type": "code",
   "execution_count": 5,
   "metadata": {},
   "outputs": [
    {
     "name": "stdout",
     "output_type": "stream",
     "text": [
      "score：0.9777777777777777\n"
     ]
    }
   ],
   "source": [
    "clf = grid_result.best_estimator_\n",
    "clf.fit(train_x,train_y)\n",
    "pred_y = clf.predict(test_x)\n",
    "print(f'score：{accuracy_score(test_y,pred_y)}')"
   ]
  },
  {
   "cell_type": "code",
   "execution_count": 6,
   "metadata": {},
   "outputs": [
    {
     "name": "stdout",
     "output_type": "stream",
     "text": [
      "score：0.9222222222222223\n"
     ]
    }
   ],
   "source": [
    "# gradient boost\n",
    "train_x,test_x,train_y,test_y = train_test_split(x,y,test_size=0.2,random_state=42)\n",
    "clf = GradientBoostingClassifier(n_estimators=10,max_depth=3)\n",
    "clf.fit(train_x,train_y)\n",
    "pred_y = clf.predict(test_x)\n",
    "print(f'score：{accuracy_score(test_y,pred_y)}')"
   ]
  },
  {
   "cell_type": "code",
   "execution_count": 7,
   "metadata": {},
   "outputs": [
    {
     "name": "stdout",
     "output_type": "stream",
     "text": [
      "Fitting 3 folds for each of 12 candidates, totalling 36 fits\n"
     ]
    },
    {
     "name": "stderr",
     "output_type": "stream",
     "text": [
      "C:\\Users\\kylec\\Anaconda3\\lib\\site-packages\\sklearn\\model_selection\\_split.py:1978: FutureWarning: The default value of cv will change from 3 to 5 in version 0.22. Specify it explicitly to silence this warning.\n",
      "  warnings.warn(CV_WARNING, FutureWarning)\n",
      "[Parallel(n_jobs=-1)]: Using backend LokyBackend with 8 concurrent workers.\n",
      "[Parallel(n_jobs=-1)]: Done  36 out of  36 | elapsed:    7.0s finished\n"
     ]
    },
    {
     "name": "stdout",
     "output_type": "stream",
     "text": [
      "best score：0.9276270006958942\n",
      "best param：{'max_depth': 3, 'n_estimators': 30}\n"
     ]
    }
   ],
   "source": [
    "# find the best param\n",
    "param_grid = dict(n_estimators=[10,20,30],max_depth=[3,5,7,9])\n",
    "gridSearch = GridSearchCV(clf,param_grid,n_jobs=-1,verbose=1)\n",
    "grid_result = gridSearch.fit(train_x,train_y)\n",
    "print(f'best score：{grid_result.best_score_}\\nbest param：{grid_result.best_params_}')"
   ]
  },
  {
   "cell_type": "code",
   "execution_count": 8,
   "metadata": {},
   "outputs": [
    {
     "name": "stdout",
     "output_type": "stream",
     "text": [
      "score：0.9472222222222222\n"
     ]
    }
   ],
   "source": [
    "clf = grid_result.best_estimator_\n",
    "clf.fit(train_x,train_y)\n",
    "pred_y = clf.predict(test_x)\n",
    "print(f'score：{accuracy_score(test_y,pred_y)}')"
   ]
  },
  {
   "cell_type": "code",
   "execution_count": null,
   "metadata": {},
   "outputs": [],
   "source": []
  }
 ],
 "metadata": {
  "kernelspec": {
   "display_name": "Python 3",
   "language": "python",
   "name": "python3"
  },
  "language_info": {
   "codemirror_mode": {
    "name": "ipython",
    "version": 3
   },
   "file_extension": ".py",
   "mimetype": "text/x-python",
   "name": "python",
   "nbconvert_exporter": "python",
   "pygments_lexer": "ipython3",
   "version": "3.7.3"
  }
 },
 "nbformat": 4,
 "nbformat_minor": 2
}
