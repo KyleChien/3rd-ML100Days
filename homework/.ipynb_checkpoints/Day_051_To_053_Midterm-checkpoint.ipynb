{
 "cells": [
  {
   "cell_type": "markdown",
   "metadata": {},
   "source": [
    "![](https://i.imgur.com/jMbXRzf.png)\n"
   ]
  },
  {
   "cell_type": "code",
   "execution_count": 1,
   "metadata": {},
   "outputs": [],
   "source": [
    "import pandas as pd\n",
    "import numpy as np\n",
    "import warnings\n",
    "warnings.filterwarnings('ignore')\n",
    "train_data = pd.read_csv('./data/train_data.csv')\n",
    "test_x = pd.read_csv('./data/test_features.csv')\n",
    "train_x = train_data.drop('poi', axis = 1)\n",
    "train_y = train_data['poi'].map(lambda x:1 if (x==True) else 0)"
   ]
  },
  {
   "cell_type": "code",
   "execution_count": 2,
   "metadata": {},
   "outputs": [
    {
     "name": "stdout",
     "output_type": "stream",
     "text": [
      "(113, 21)\n",
      "(113,)\n",
      "(33, 21)\n"
     ]
    }
   ],
   "source": [
    "print(train_x.shape)\n",
    "print(train_y.shape)\n",
    "print(test_x.shape)"
   ]
  },
  {
   "cell_type": "code",
   "execution_count": 3,
   "metadata": {},
   "outputs": [],
   "source": [
    "# 對 name, email_address 做特徵雜湊\n",
    "name = test_x['name']\n",
    "\n",
    "from sklearn.preprocessing import LabelEncoder, MinMaxScaler\n",
    "train_x['name'] = LabelEncoder().fit_transform(train_x['name'])\n",
    "train_x['name'] = train_x['name'].map(lambda x:hash(x)%10)\n",
    "test_x['name'] = LabelEncoder().fit_transform(test_x['name'])\n",
    "test_x['name'] = test_x['name'].map(lambda x:hash(x)%10)"
   ]
  },
  {
   "cell_type": "code",
   "execution_count": 4,
   "metadata": {
    "scrolled": false
   },
   "outputs": [],
   "source": [
    "# drop loan_advance\n",
    "deferred_income = train_x['deferred_income']\n",
    "deferred_income_test = test_x['deferred_income']\n",
    "\n",
    "train_x = train_x.drop(['loan_advances', 'email_address','deferred_income'],axis=1)\n",
    "test_x = test_x.drop(['loan_advances', 'email_address','deferred_income'],axis=1)\n",
    "\n",
    "for col in train_x.columns:\n",
    "    median = train_x[col][train_x[col].notnull()].median()\n",
    "    train_x[col] = train_x[col].fillna(median)\n",
    "    train_x[col] = train_x[col].map(lambda x:np.log(x) if x > 0 else 0)\n",
    "    median_test = test_x[col][test_x[col].notnull()].median()\n",
    "    test_x[col] = test_x[col].fillna(median_test)\n",
    "    test_x[col] = test_x[col].map(lambda x:np.log(x) if x > 0 else 0)\n",
    "    \n",
    "train_x['deferred_income'] = deferred_income\n",
    "test_x['deferred_income'] = deferred_income_test"
   ]
  },
  {
   "cell_type": "code",
   "execution_count": 5,
   "metadata": {
    "scrolled": false
   },
   "outputs": [],
   "source": [
    "# deferred_income\n",
    "median = train_x['deferred_income'][train_x['deferred_income'].notnull()].median()\n",
    "train_x['deferred_income'] = train_x['deferred_income'].fillna(median)\n",
    "train_x['deferred_income'] = train_x['deferred_income'].map(lambda x:-np.log(-x) if x < 0 else 0)\n",
    "\n",
    "median = test_x['deferred_income'][test_x['deferred_income'].notnull()].median()\n",
    "test_x['deferred_income'] = test_x['deferred_income'].fillna(median)\n",
    "test_x['deferred_income'] = test_x['deferred_income'].map(lambda x:-np.log(-x) if x < 0 else 0)\n",
    "\n",
    "# for c in train_x.columns:\n",
    "#     train_x[c] = MinMaxScaler().fit_transform(train_x[c].values.reshape(-1,1))\n",
    "#     test_x[c] = MinMaxScaler().fit_transform(test_x[c].values.reshape(-1,1))"
   ]
  },
  {
   "cell_type": "code",
   "execution_count": 6,
   "metadata": {},
   "outputs": [],
   "source": [
    "from sklearn.tree import DecisionTreeClassifier\n",
    "from sklearn.ensemble import RandomForestClassifier, GradientBoostingClassifier\n",
    "from sklearn.model_selection import GridSearchCV, cross_val_score"
   ]
  },
  {
   "cell_type": "code",
   "execution_count": 7,
   "metadata": {},
   "outputs": [
    {
     "name": "stdout",
     "output_type": "stream",
     "text": [
      "Fitting 3 folds for each of 6 candidates, totalling 18 fits\n"
     ]
    },
    {
     "name": "stderr",
     "output_type": "stream",
     "text": [
      "[Parallel(n_jobs=-1)]: Using backend LokyBackend with 8 concurrent workers.\n"
     ]
    },
    {
     "name": "stdout",
     "output_type": "stream",
     "text": [
      "best score:0.8495575221238938\n",
      "best params:{'max_depth': 3}\n"
     ]
    },
    {
     "name": "stderr",
     "output_type": "stream",
     "text": [
      "[Parallel(n_jobs=-1)]: Done  18 out of  18 | elapsed:    2.5s finished\n",
      "C:\\Users\\kylec\\Anaconda3\\lib\\site-packages\\sklearn\\model_selection\\_search.py:814: DeprecationWarning: The default of the `iid` parameter will change from True to False in version 0.22 and will be removed in 0.24. This will change numeric results when test-set sizes are unequal.\n",
      "  DeprecationWarning)\n"
     ]
    }
   ],
   "source": [
    "# Decision Tree\n",
    "max_depth = [3,5,7,10,15,20]\n",
    "clf_D = DecisionTreeClassifier()\n",
    "param_grid = dict(max_depth=max_depth)\n",
    "grid_search = GridSearchCV(clf_D, param_grid, n_jobs=-1, verbose=1)\n",
    "grid_result = grid_search.fit(train_x, train_y)\n",
    "print(f'best score:{grid_result.best_score_}\\nbest params:{grid_result.best_params_}')"
   ]
  },
  {
   "cell_type": "code",
   "execution_count": 8,
   "metadata": {},
   "outputs": [
    {
     "name": "stdout",
     "output_type": "stream",
     "text": [
      "cross_val_score:0.8138339920948617\n"
     ]
    }
   ],
   "source": [
    "clf_D = grid_result.best_estimator_\n",
    "clf_D.fit(train_x,train_y)\n",
    "pred_y_D = clf_D.predict_proba(test_x)[:,1]\n",
    "pred_y = pd.DataFrame({'name':name, 'poi':pred_y_D})\n",
    "pred_y.to_csv('./data/pred_y_DecisionTree.csv', index=False)\n",
    "print(f'cross_val_score:{cross_val_score(clf_D,train_x,train_y,cv=5).mean()}')"
   ]
  },
  {
   "cell_type": "code",
   "execution_count": 9,
   "metadata": {},
   "outputs": [
    {
     "name": "stderr",
     "output_type": "stream",
     "text": [
      "[Parallel(n_jobs=-1)]: Using backend LokyBackend with 8 concurrent workers.\n"
     ]
    },
    {
     "name": "stdout",
     "output_type": "stream",
     "text": [
      "Fitting 3 folds for each of 30 candidates, totalling 90 fits\n",
      "best score:0.911504424778761\n",
      "best params:{'max_depth': 10, 'n_estimators': 300}\n"
     ]
    },
    {
     "name": "stderr",
     "output_type": "stream",
     "text": [
      "[Parallel(n_jobs=-1)]: Done  90 out of  90 | elapsed:    2.5s finished\n",
      "C:\\Users\\kylec\\Anaconda3\\lib\\site-packages\\sklearn\\model_selection\\_search.py:814: DeprecationWarning: The default of the `iid` parameter will change from True to False in version 0.22 and will be removed in 0.24. This will change numeric results when test-set sizes are unequal.\n",
      "  DeprecationWarning)\n"
     ]
    }
   ],
   "source": [
    "# RandomForest\n",
    "max_depth = [3,5,7,10,15,20]\n",
    "n_estimator = [10,50,100,300,500]\n",
    "param_grid = dict(n_estimators=n_estimator,max_depth=max_depth)\n",
    "clf_R = RandomForestClassifier()\n",
    "grid_search = GridSearchCV(clf_R, param_grid, n_jobs=-1, verbose=1)\n",
    "grid_result = grid_search.fit(train_x,train_y)\n",
    "print(f'best score:{grid_result.best_score_}\\nbest params:{grid_result.best_params_}')"
   ]
  },
  {
   "cell_type": "code",
   "execution_count": 10,
   "metadata": {},
   "outputs": [
    {
     "name": "stdout",
     "output_type": "stream",
     "text": [
      "cross_val_score:0.8936758893280633\n"
     ]
    }
   ],
   "source": [
    "clf_R = grid_result.best_estimator_\n",
    "clf_R.fit(train_x, train_y)\n",
    "pred_y_R = clf_R.predict_proba(test_x)[:,1]\n",
    "pred_y = pd.DataFrame({'name':name, 'poi':pred_y_R})\n",
    "pred_y.to_csv('./data/pred_y_RandomForest.csv', index=False)\n",
    "print(f'cross_val_score:{cross_val_score(clf_R,train_x,train_y,cv=5).mean()}')"
   ]
  },
  {
   "cell_type": "code",
   "execution_count": 11,
   "metadata": {},
   "outputs": [
    {
     "name": "stdout",
     "output_type": "stream",
     "text": [
      "Fitting 3 folds for each of 30 candidates, totalling 90 fits\n"
     ]
    },
    {
     "name": "stderr",
     "output_type": "stream",
     "text": [
      "[Parallel(n_jobs=-1)]: Using backend LokyBackend with 8 concurrent workers.\n"
     ]
    },
    {
     "name": "stdout",
     "output_type": "stream",
     "text": [
      "best score:0.8761061946902655\n",
      "best params:{'max_depth': 3, 'n_estimators': 10}\n"
     ]
    },
    {
     "name": "stderr",
     "output_type": "stream",
     "text": [
      "[Parallel(n_jobs=-1)]: Done  90 out of  90 | elapsed:    1.0s finished\n",
      "C:\\Users\\kylec\\Anaconda3\\lib\\site-packages\\sklearn\\model_selection\\_search.py:814: DeprecationWarning: The default of the `iid` parameter will change from True to False in version 0.22 and will be removed in 0.24. This will change numeric results when test-set sizes are unequal.\n",
      "  DeprecationWarning)\n"
     ]
    }
   ],
   "source": [
    "# GradientBoosting\n",
    "max_depth = [3,5,7,10,15,20]\n",
    "n_estimator = [10,50,100,300,500]\n",
    "param_grid = dict(n_estimators=n_estimator,max_depth=max_depth)\n",
    "clf_G = GradientBoostingClassifier()\n",
    "grid_search = GridSearchCV(clf_G, param_grid, n_jobs=-1, verbose=1)\n",
    "grid_result = grid_search.fit(train_x,train_y)\n",
    "print(f'best score:{grid_result.best_score_}\\nbest params:{grid_result.best_params_}')"
   ]
  },
  {
   "cell_type": "code",
   "execution_count": 12,
   "metadata": {},
   "outputs": [
    {
     "name": "stdout",
     "output_type": "stream",
     "text": [
      "cross_val_score:0.849802371541502\n"
     ]
    }
   ],
   "source": [
    "clf_G = grid_result.best_estimator_\n",
    "clf_G.fit(train_x, train_y)\n",
    "pred_y_G = clf_G.predict_proba(test_x)[:,1]\n",
    "pred_y = pd.DataFrame({'name':name, 'poi':pred_y_G})\n",
    "pred_y.to_csv('./data/pred_y_GradientBoost.csv', index=False)\n",
    "print(f'cross_val_score:{cross_val_score(clf_G,train_x,train_y,cv=5).mean()}')"
   ]
  },
  {
   "cell_type": "code",
   "execution_count": 13,
   "metadata": {},
   "outputs": [],
   "source": [
    "# blending\n",
    "RF_weight = 0.74285 / (0.74285 + 0.76428)\n",
    "GB_weight = 0.76428 / (0.74285 + 0.76428)\n",
    "pred_y_bl = pred_y_R*RF_weight + pred_y_G*GB_weight\n",
    "pred_y = pd.DataFrame({'name':name, 'poi':pred_y_bl})\n",
    "pred_y.to_csv('./data/pred_y_Blending.csv', index=False)"
   ]
  },
  {
   "cell_type": "code",
   "execution_count": 14,
   "metadata": {},
   "outputs": [
    {
     "name": "stdout",
     "output_type": "stream",
     "text": [
      "score:0.8849802371541502\n",
      "score:0.849802371541502\n",
      "score:0.8845849802371542\n"
     ]
    }
   ],
   "source": [
    "# stacking\n",
    "from mlxtend.classifier import StackingClassifier\n",
    "\n",
    "meta_estimator = GradientBoostingClassifier(tol=100, subsample=0.70, n_estimators=50, \n",
    "                                           max_features='sqrt', max_depth=4, learning_rate=0.3)\n",
    "\n",
    "stacking = StackingClassifier(classifiers=[clf_R,clf_G], meta_classifier=meta_estimator)\n",
    "for clf in [clf_R, clf_G, stacking]:\n",
    "    print(f'score:{cross_val_score(clf, train_x, train_y,cv=5).mean()}')"
   ]
  },
  {
   "cell_type": "code",
   "execution_count": 15,
   "metadata": {},
   "outputs": [],
   "source": [
    "stacking.fit(train_x, train_y)\n",
    "pred_y_stacking = stacking.predict_proba(test_x)[:,1]\n",
    "pred_y = pd.DataFrame({'name':name, 'poi':pred_y_stacking})\n",
    "pred_y.to_csv('./data/pred_y_stacking.csv', index=False)"
   ]
  }
 ],
 "metadata": {
  "kernelspec": {
   "display_name": "Python 3",
   "language": "python",
   "name": "python3"
  },
  "language_info": {
   "codemirror_mode": {
    "name": "ipython",
    "version": 3
   },
   "file_extension": ".py",
   "mimetype": "text/x-python",
   "name": "python",
   "nbconvert_exporter": "python",
   "pygments_lexer": "ipython3",
   "version": "3.7.3"
  }
 },
 "nbformat": 4,
 "nbformat_minor": 2
}
