{
 "cells": [
  {
   "cell_type": "markdown",
   "metadata": {},
   "source": [
    "## 練習時間\n",
    "#### 請寫一個函式用來計算 Mean Square Error\n",
    "$ MSE = \\frac{1}{n}\\sum_{i=1}^{n}{(Y_i - \\hat{Y}_i)^2} $\n",
    "\n",
    "### Hint: [如何取平方](https://googoodesign.gitbooks.io/-ezpython/unit-1.html)"
   ]
  },
  {
   "cell_type": "markdown",
   "metadata": {},
   "source": [
    "## [作業一]\n",
    "- 計算Mean Square Error"
   ]
  },
  {
   "cell_type": "code",
   "execution_count": 14,
   "metadata": {},
   "outputs": [
    {
     "data": {
      "text/plain": [
       "974.4967355295191"
      ]
     },
     "execution_count": 14,
     "metadata": {},
     "output_type": "execute_result"
    }
   ],
   "source": [
    "import numpy as np\n",
    "import matplotlib.pyplot as plt\n",
    "\n",
    "x = np.linspace(0,100,101)\n",
    "y_hat = x*3 + 5\n",
    "y = (x+np.random.randn(101)*10)*3 + 5\n",
    "\n",
    "MeanSquareError(y,y_hat)"
   ]
  },
  {
   "cell_type": "code",
   "execution_count": 2,
   "metadata": {},
   "outputs": [],
   "source": [
    "def MeanSquareError(y,y_hat):\n",
    "    MSE=sum((y-y_hat)**2)/len(y)\n",
    "    return MSE"
   ]
  },
  {
   "cell_type": "code",
   "execution_count": 15,
   "metadata": {
    "scrolled": true
   },
   "outputs": [
    {
     "data": {
      "image/png": "[encoded data removed]",
      "text/plain": [
       "<Figure size 432x288 with 1 Axes>"
      ]
     },
     "metadata": {
      "needs_background": "light"
     },
     "output_type": "display_data"
    }
   ],
   "source": [
    "plt.plot(x,y_hat,'r-',label='prediction')\n",
    "plt.plot(x,y,'k.',label='experiment')\n",
    "plt.title(\"blablabla\")\n",
    "plt.legend(loc=2)\n",
    "plt.show()"
   ]
  },
  {
   "cell_type": "markdown",
   "metadata": {},
   "source": [
    "## [作業2]\n",
    "#### Chosen data : Wave Measuring Buoys Data\n",
    "1. 你選的這組資料為何重要\n",
    "    - 波浪資料提供了海運在不管是商業、旅遊方面安全的航線資訊。\n",
    "2. 資料從何而來 (tips: 譬如提供者是誰、以什麼方式蒐集)\n",
    "    - 提供者：Queensland Government Data - https://data.qld.gov.au/dataset\n",
    "    - 資料以海上浮標測量得到當地波高資訊\n",
    "3. 蒐集而來的資料型態為何\n",
    "    - 示性波高、最大波高等(高度)、週期(時間)、SST(溫度)\n",
    "4. 這組資料想解決的問題如何評估\n",
    "    - 透過統計方式算出示性波高，評估其對航線的影響程度"
   ]
  },
  {
   "cell_type": "markdown",
   "metadata": {},
   "source": [
    "## [作業3]\n",
    "#### 想像你經營一個自由載客車隊，你希望能透過數據分析以提升業績，請你思考並描述你如何規劃整體的分析/解決方案：\n",
    "1. 核心問題為何 (tips：如何定義 「提升業績 & 你的假設」)\n",
    "    - 載客人數上升是否等於業績提升\n",
    "    - 蒐集的資料是否足以代表業績提升(ex. 蒐集特定假日期間的載客資訊不代表整年度業績上升)\n",
    "    - 是否有某種模式可循以提升載客數量\n",
    "2. 資料從何而來 (tips：哪些資料可能會對你想問的問題產生影響 & 資料如何蒐集)\n",
    "    - 資料透過各個車輛載客計費回報，包含時間、地點里程等資訊\n",
    "3. 蒐集而來的資料型態為何\n",
    "    - 時間、地點(經緯度)、里程(移動距離)等\n",
    "4. 你要回答的問題，其如何評估 (tips：你的假設如何驗證)\n",
    "    - 通過數據分析觀察載客模式，評估最有效的載客時間、地點"
   ]
  },
  {
   "cell_type": "code",
   "execution_count": null,
   "metadata": {},
   "outputs": [],
   "source": []
  }
 ],
 "metadata": {
  "anaconda-cloud": {},
  "kernelspec": {
   "display_name": "Python 3",
   "language": "python",
   "name": "python3"
  },
  "language_info": {
   "codemirror_mode": {
    "name": "ipython",
    "version": 3
   },
   "file_extension": ".py",
   "mimetype": "text/x-python",
   "name": "python",
   "nbconvert_exporter": "python",
   "pygments_lexer": "ipython3",
   "version": "3.7.3"
  }
 },
 "nbformat": 4,
 "nbformat_minor": 1
}
