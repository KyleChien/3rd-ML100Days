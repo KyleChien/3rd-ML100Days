{
 "cells": [
  {
   "cell_type": "markdown",
   "metadata": {},
   "source": [
    "### 作業\n",
    "目前已經學過許多的模型，相信大家對整體流程應該比較掌握了，這次作業請改用**手寫辨識資料集**，步驟流程都是一樣的，請試著自己撰寫程式碼來完成所有步驟"
   ]
  },
  {
   "cell_type": "code",
   "execution_count": 1,
   "metadata": {},
   "outputs": [],
   "source": [
    "from sklearn import datasets, metrics\n",
    "import numpy as np\n",
    "digits = datasets.load_digits()"
   ]
  },
  {
   "cell_type": "code",
   "execution_count": 2,
   "metadata": {},
   "outputs": [
    {
     "name": "stdout",
     "output_type": "stream",
     "text": [
      "data shape：(1797, 64)\n",
      "target shape：(1797,)\n",
      "image shape：(1797, 8, 8)\n"
     ]
    }
   ],
   "source": [
    "x = digits.data\n",
    "y = digits.target\n",
    "print(f'data shape：{x.shape}')\n",
    "print(f'target shape：{y.shape}')\n",
    "print(f'image shape：{digits.images.shape}')"
   ]
  },
  {
   "cell_type": "code",
   "execution_count": 3,
   "metadata": {},
   "outputs": [
    {
     "name": "stdout",
     "output_type": "stream",
     "text": [
      "acc_score：0.9055555555555556\n",
      "\n",
      "feature importance：\n",
      "[0.00000000e+00 1.30512841e-03 8.56369449e-04 3.68291257e-03\n",
      " 1.97916916e-03 6.26498420e-02 6.93671873e-03 1.02831985e-03\n",
      " 9.06089592e-05 7.46260924e-04 1.45765194e-02 2.62406969e-04\n",
      " 5.94621580e-03 1.05534974e-02 7.04534054e-04 4.63319345e-04\n",
      " 0.00000000e+00 9.45872536e-04 6.37839052e-03 2.73080969e-02\n",
      " 2.95684007e-02 9.19998516e-02 4.21305183e-03 0.00000000e+00\n",
      " 0.00000000e+00 1.27236981e-03 5.00863245e-02 1.79136106e-02\n",
      " 3.80942185e-02 2.63245828e-02 1.10693395e-02 0.00000000e+00\n",
      " 0.00000000e+00 6.72814989e-02 9.49245020e-04 4.44137559e-04\n",
      " 7.61029307e-02 1.53170678e-02 2.03439167e-02 0.00000000e+00\n",
      " 0.00000000e+00 7.24432773e-03 9.42157000e-02 7.53079533e-02\n",
      " 2.88505149e-03 1.39934314e-02 1.97794348e-02 1.40996844e-04\n",
      " 0.00000000e+00 3.07342492e-04 3.45169187e-03 1.83555615e-02\n",
      " 1.01353885e-02 9.77693818e-03 2.17326818e-02 0.00000000e+00\n",
      " 0.00000000e+00 3.53839996e-04 3.21573329e-02 2.43624293e-03\n",
      " 5.62126350e-02 5.44903318e-03 2.06867762e-02 7.98291041e-03]\n"
     ]
    }
   ],
   "source": [
    "# GradientBoost clf\n",
    "from sklearn.model_selection import train_test_split\n",
    "from sklearn.ensemble import GradientBoostingClassifier\n",
    "x_train,x_test,y_train,y_test = train_test_split(x,y,test_size=0.2,random_state=4)\n",
    "clf = GradientBoostingClassifier(n_estimators=20,learning_rate=1/20)\n",
    "clf.fit(x_train,y_train)\n",
    "y_pred = clf.predict(x_test)\n",
    "print(f'acc_score：{metrics.accuracy_score(y_test,y_pred)}\\n')\n",
    "print(f'feature importance：\\n{clf.feature_importances_}')"
   ]
  },
  {
   "cell_type": "code",
   "execution_count": 4,
   "metadata": {},
   "outputs": [
    {
     "name": "stdout",
     "output_type": "stream",
     "text": [
      "acc_score：0.9083333333333333\n",
      "\n",
      "feature importance：\n",
      "[0.         0.00238064 0.01622688 0.00500942 0.00194337 0.00872678\n",
      " 0.00828704 0.         0.         0.008562   0.0278738  0.00119717\n",
      " 0.00906936 0.0428637  0.00373036 0.         0.         0.00352096\n",
      " 0.01319109 0.01190192 0.03259536 0.06760015 0.00104298 0.00049406\n",
      " 0.         0.01623158 0.02949109 0.03319295 0.03352863 0.01487485\n",
      " 0.03917353 0.         0.         0.03938942 0.03550918 0.01761333\n",
      " 0.07540827 0.01553928 0.05018681 0.         0.         0.00854621\n",
      " 0.05448081 0.05129765 0.01747231 0.00715887 0.01596516 0.\n",
      " 0.         0.         0.01305367 0.01911607 0.01381728 0.02405006\n",
      " 0.03648075 0.00217841 0.         0.00227818 0.01627364 0.00561506\n",
      " 0.00854909 0.02418797 0.01215622 0.00096662]\n"
     ]
    }
   ],
   "source": [
    "# RandomForest clf\n",
    "from sklearn.ensemble import RandomForestClassifier\n",
    "x_train,x_test,y_train,y_test = train_test_split(x,y,test_size=0.2,random_state=4)\n",
    "clf = RandomForestClassifier(n_estimators=20,max_depth=5)\n",
    "clf.fit(x_train,y_train)\n",
    "y_pred = clf.predict(x_test)\n",
    "print(f'acc_score：{metrics.accuracy_score(y_test,y_pred)}\\n')\n",
    "print(f'feature importance：\\n{clf.feature_importances_}')"
   ]
  },
  {
   "cell_type": "code",
   "execution_count": 5,
   "metadata": {},
   "outputs": [
    {
     "name": "stdout",
     "output_type": "stream",
     "text": [
      "acc_score：0.8666666666666667\n",
      "\n",
      "feature importance：\n",
      "[0.         0.         0.01044071 0.0128146  0.00341248 0.0483692\n",
      " 0.00146925 0.         0.         0.         0.01340628 0.\n",
      " 0.00503006 0.00927029 0.00251319 0.         0.         0.00587386\n",
      " 0.01381926 0.00727537 0.0474705  0.08845818 0.00154658 0.\n",
      " 0.         0.00521732 0.07407609 0.05832496 0.00458465 0.01252717\n",
      " 0.00115993 0.         0.         0.05503776 0.00848593 0.00802814\n",
      " 0.07567232 0.03308014 0.02426019 0.         0.         0.01061781\n",
      " 0.12918131 0.05009597 0.01750833 0.01144025 0.00711043 0.\n",
      " 0.         0.         0.00596603 0.00301582 0.00768249 0.01725951\n",
      " 0.02330406 0.00153537 0.         0.00103105 0.01156682 0.\n",
      " 0.05792639 0.00705768 0.00077329 0.00530297]\n"
     ]
    }
   ],
   "source": [
    "# DecisionTree clf\n",
    "from sklearn.tree import DecisionTreeClassifier\n",
    "x_train,x_test,y_train,y_test = train_test_split(x,y,test_size=0.2,random_state=4)\n",
    "clf = DecisionTreeClassifier()\n",
    "clf.fit(x_train,y_train)\n",
    "y_pred = clf.predict(x_test)\n",
    "print(f'acc_score：{metrics.accuracy_score(y_test,y_pred)}\\n')\n",
    "print(f'feature importance：\\n{clf.feature_importances_}')"
   ]
  },
  {
   "cell_type": "code",
   "execution_count": null,
   "metadata": {},
   "outputs": [],
   "source": []
  }
 ],
 "metadata": {
  "kernelspec": {
   "display_name": "Python 3",
   "language": "python",
   "name": "python3"
  },
  "language_info": {
   "codemirror_mode": {
    "name": "ipython",
    "version": 3
   },
   "file_extension": ".py",
   "mimetype": "text/x-python",
   "name": "python",
   "nbconvert_exporter": "python",
   "pygments_lexer": "ipython3",
   "version": "3.7.3"
  }
 },
 "nbformat": 4,
 "nbformat_minor": 2
}
