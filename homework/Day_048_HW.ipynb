{
 "cells": [
  {
   "attachments": {},
   "cell_type": "markdown",
   "metadata": {},
   "source": [
    "![](https://i.imgur.com/nGj5tnc.png)"
   ]
  },
  {
   "cell_type": "code",
   "execution_count": 1,
   "metadata": {},
   "outputs": [],
   "source": [
    "import pandas as pd\n",
    "import numpy as np\n",
    "from sklearn.ensemble import RandomForestClassifier, GradientBoostingClassifier\n",
    "from sklearn.model_selection import GridSearchCV\n",
    "\n",
    "train = pd.read_csv('./data/kaggle_train.csv')\n",
    "test = pd.read_csv('./data/kaggle_test.csv')\n",
    "train_labels = pd.read_csv('./data/kaggle_trainLabels.csv')"
   ]
  },
  {
   "cell_type": "code",
   "execution_count": 2,
   "metadata": {},
   "outputs": [
    {
     "name": "stdout",
     "output_type": "stream",
     "text": [
      "train shape：(1000, 40)\n",
      "test shape：(9000, 40)\n",
      "train label shape：(1000, 1)\n"
     ]
    }
   ],
   "source": [
    "print(f'train shape：{train.T.reset_index().T.reset_index(drop=True).shape}')\n",
    "print(f'test shape：{test.T.reset_index().T.reset_index(drop=True).shape}')\n",
    "print(f'train label shape：{train_labels.T.reset_index().T.reset_index(drop=True).shape}')\n",
    "train_x = np.array(train.T.reset_index().T.reset_index(drop=True)).astype(float)\n",
    "train_y = np.array(train_labels.T.reset_index().T.reset_index(drop=True)).astype(float).ravel()\n",
    "test_x = np.array(test.T.reset_index().T.reset_index(drop=True)).astype(float)"
   ]
  },
  {
   "cell_type": "code",
   "execution_count": 3,
   "metadata": {},
   "outputs": [
    {
     "name": "stdout",
     "output_type": "stream",
     "text": [
      "Fitting 3 folds for each of 42 candidates, totalling 126 fits\n"
     ]
    },
    {
     "name": "stderr",
     "output_type": "stream",
     "text": [
      "C:\\Users\\kylec\\Anaconda3\\lib\\site-packages\\sklearn\\model_selection\\_split.py:1978: FutureWarning: The default value of cv will change from 3 to 5 in version 0.22. Specify it explicitly to silence this warning.\n",
      "  warnings.warn(CV_WARNING, FutureWarning)\n",
      "[Parallel(n_jobs=-1)]: Using backend LokyBackend with 8 concurrent workers.\n",
      "[Parallel(n_jobs=-1)]: Done  34 tasks      | elapsed:    5.8s\n",
      "[Parallel(n_jobs=-1)]: Done 126 out of 126 | elapsed:   19.4s finished\n"
     ]
    },
    {
     "name": "stdout",
     "output_type": "stream",
     "text": [
      "best score：0.879\n",
      "best param：{'max_depth': 5, 'n_estimators': 200}\n"
     ]
    }
   ],
   "source": [
    "# GradientBoosting\n",
    "clfG = GradientBoostingClassifier(random_state=42)\n",
    "param_grid_G = dict(n_estimators=[50,100,200,300,500,1000],max_depth=[2,3,5,10,15,20,50])\n",
    "grid_search_G = GridSearchCV(clfG, param_grid_G, n_jobs=-1, verbose=1)\n",
    "grid_result_G = grid_search_G.fit(train_x, train_y)\n",
    "print(f'best score：{grid_result_G.best_score_}\\nbest param：{grid_result_G.best_params_}')"
   ]
  },
  {
   "cell_type": "code",
   "execution_count": 4,
   "metadata": {},
   "outputs": [
    {
     "name": "stdout",
     "output_type": "stream",
     "text": [
      "Fitting 3 folds for each of 42 candidates, totalling 126 fits\n"
     ]
    },
    {
     "name": "stderr",
     "output_type": "stream",
     "text": [
      "C:\\Users\\kylec\\Anaconda3\\lib\\site-packages\\sklearn\\model_selection\\_split.py:1978: FutureWarning: The default value of cv will change from 3 to 5 in version 0.22. Specify it explicitly to silence this warning.\n",
      "  warnings.warn(CV_WARNING, FutureWarning)\n",
      "[Parallel(n_jobs=-1)]: Using backend LokyBackend with 8 concurrent workers.\n",
      "[Parallel(n_jobs=-1)]: Done  52 tasks      | elapsed:    4.7s\n",
      "[Parallel(n_jobs=-1)]: Done 126 out of 126 | elapsed:   18.1s finished\n"
     ]
    },
    {
     "name": "stdout",
     "output_type": "stream",
     "text": [
      "best score：0.875\n",
      "best param：{'max_depth': 50, 'n_estimators': 300}\n"
     ]
    }
   ],
   "source": [
    "# RandomForest\n",
    "clfR = RandomForestClassifier(random_state=42)\n",
    "param_grid_R = dict(n_estimators=[50,100,200,300,500,1000],max_depth=[2,3,5,10,15,20,50])\n",
    "grid_search_R = GridSearchCV(clfR, param_grid_R, n_jobs=-1, verbose=1)\n",
    "grid_result_R = grid_search_R.fit(train_x, train_y)\n",
    "print(f'best score：{grid_result_R.best_score_}\\nbest param：{grid_result_R.best_params_}')"
   ]
  },
  {
   "cell_type": "code",
   "execution_count": 5,
   "metadata": {},
   "outputs": [],
   "source": [
    "clf = grid_result_G.best_estimator_\n",
    "clf.fit(train_x, train_y)\n",
    "pred_y = clf.predict(test_x)"
   ]
  },
  {
   "cell_type": "code",
   "execution_count": 11,
   "metadata": {},
   "outputs": [],
   "source": [
    "pred_y_DF = pd.DataFrame(pred_y.astype(int),index=range(1,9001))\n",
    "pred_y_DF = pred_y_DF.reset_index()\n",
    "pred_y_DF.columns = ['Id','Solution']\n",
    "pred_y_DF.to_csv('./data/predict_y.csv',index=False)"
   ]
  },
  {
   "cell_type": "code",
   "execution_count": null,
   "metadata": {},
   "outputs": [],
   "source": []
  }
 ],
 "metadata": {
  "kernelspec": {
   "display_name": "Python 3",
   "language": "python",
   "name": "python3"
  },
  "language_info": {
   "codemirror_mode": {
    "name": "ipython",
    "version": 3
   },
   "file_extension": ".py",
   "mimetype": "text/x-python",
   "name": "python",
   "nbconvert_exporter": "python",
   "pygments_lexer": "ipython3",
   "version": "3.7.3"
  }
 },
 "nbformat": 4,
 "nbformat_minor": 2
}
